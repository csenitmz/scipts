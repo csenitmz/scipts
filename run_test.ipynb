{
 "cells": [
  {
   "cell_type": "code",
   "execution_count": 5,
   "id": "e33e3038-0da3-43fd-a63f-8bc6fafed896",
   "metadata": {},
   "outputs": [],
   "source": [
    "!python test.py \\\n",
    "    --add 5 6 \\\n"
   ]
  },
  {
   "cell_type": "code",
   "execution_count": null,
   "id": "688e5e06-3195-4296-9a7d-1faab8da061a",
   "metadata": {},
   "outputs": [],
   "source": []
  }
 ],
 "metadata": {
  "kernelspec": {
   "display_name": "Python 3 (ipykernel)",
   "language": "python",
   "name": "python3"
  },
  "language_info": {
   "codemirror_mode": {
    "name": "ipython",
    "version": 3
   },
   "file_extension": ".py",
   "mimetype": "text/x-python",
   "name": "python",
   "nbconvert_exporter": "python",
   "pygments_lexer": "ipython3",
   "version": "3.10.13"
  }
 },
 "nbformat": 4,
 "nbformat_minor": 5
}
