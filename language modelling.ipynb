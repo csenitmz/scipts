{
 "cells": [
  {
   "cell_type": "code",
   "execution_count": null,
   "id": "71e5eea1-b356-44ac-a0ea-972faffd57ae",
   "metadata": {
    "tags": []
   },
   "outputs": [],
   "source": [
    "# !pip install git+https://github.com/huggingface/transformers.git"
   ]
  },
  {
   "cell_type": "code",
   "execution_count": null,
   "id": "27d1db58-ab1a-432b-9ad1-2488867f5d97",
   "metadata": {
    "tags": []
   },
   "outputs": [],
   "source": [
    "# !pip install -r requirements.txt"
   ]
  },
  {
   "cell_type": "code",
   "execution_count": null,
   "id": "6107f597-fd77-4c3b-b4ac-28e9922ae973",
   "metadata": {},
   "outputs": [],
   "source": [
    "# Replace \"huggingface-course\" below with your actual namespace to use your own tokenizer\n",
    "# from transformers import AutoTokenizer\n",
    "# tokenizer = AutoTokenizer.from_pretrained(\"tokenizer-mz/tokenizer-mz-gpt2-datav4\")"
   ]
  },
  {
   "cell_type": "code",
   "execution_count": null,
   "id": "9cd8a1a3-9fa7-4eab-a37f-73b5ba82b3eb",
   "metadata": {},
   "outputs": [],
   "source": []
  },
  {
   "cell_type": "code",
   "execution_count": null,
   "id": "bcb6c67a-eab6-46d8-b294-c3705baf1827",
   "metadata": {
    "tags": []
   },
   "outputs": [],
   "source": [
    "!python run_clm.py \\\n",
    "    --config_name openai-community/gpt2  \\\n",
    "    --tokenizer_name tokenizer-mz/tokenizer-mz-gpt2-datav4 \\\n",
    "    --train_file data/v4_train_data.txt \\\n",
    "    --validation_file data/v4_test_data.txt \\\n",
    "    --per_device_train_batch_size 2 \\\n",
    "    --per_device_eval_batch_size 2 \\\n",
    "    --do_train \\\n",
    "    --do_eval \\\n",
    "    --output_dir models/10-epochs-config-only-test-clm \\\n",
    "    --overwrite_output_dir \\\n",
    "    --num_train_epochs 10 \\\n",
    "    --save_steps 10_000 \\\n",
    "    --save_total_limit 2"
   ]
  },
  {
   "cell_type": "code",
   "execution_count": null,
   "id": "d2571edb-4f3a-4968-8d88-b0ad29eb9d61",
   "metadata": {},
   "outputs": [],
   "source": [
    "\n",
    "\n",
    "\n",
    "\n",
    "\n",
    "\n"
   ]
  },
  {
   "cell_type": "code",
   "execution_count": null,
   "id": "56b678a6-c8a3-4a52-98bc-3806484a5e09",
   "metadata": {},
   "outputs": [],
   "source": []
  },
  {
   "cell_type": "code",
   "execution_count": null,
   "id": "6c4c32d9-2f06-4de8-896c-2b15467a90d7",
   "metadata": {},
   "outputs": [],
   "source": [
    "# !python run_mlm.py \\\n",
    "#     --config_name bert-base-uncased \\\n",
    "#     --tokenizer_name tokenizer-mz/mz400-tokenizer-bert/mz400-tokenizer-bert \\\n",
    "#     --train_file data/v4_train_data.txt \\\n",
    "#     --validation_file data/v4_test_data.txt \\\n",
    "#     --per_device_train_batch_size 8 \\\n",
    "#     --per_device_eval_batch_size 8 \\\n",
    "#     --do_train \\\n",
    "#     --do_eval \\\n",
    "#     --output_dir models/test-mlm-datav4-cased \\\n",
    "#     --overwrite_output_dir\n",
    "\n",
    "# with epochs and save steps\n",
    "!python run_mlm.py \\\n",
    "    --config_name bert-base-uncased \\\n",
    "    --tokenizer_name tokenizer-mz/tokenizer-mz-bert-uncased-datav4 \\\n",
    "    --train_file data/v4_train_data.txt \\\n",
    "    --validation_file data/v4_test_data.txt \\\n",
    "    --per_device_train_batch_size 8 \\\n",
    "    --per_device_eval_batch_size 8 \\\n",
    "    --do_train \\\n",
    "    --do_eval \\\n",
    "    --output_dir models/10-epochs-config-only-test-mlm-datav4-uncased \\\n",
    "    --overwrite_output_dir \\\n",
    "    --num_train_epochs 10 \\\n",
    "    --save_steps 10_000 \\\n",
    "    --save_total_limit 2"
   ]
  },
  {
   "cell_type": "code",
   "execution_count": null,
   "id": "c351e78e-2e22-4f6b-832a-0dfc3f8eb50c",
   "metadata": {},
   "outputs": [],
   "source": []
  },
  {
   "cell_type": "code",
   "execution_count": null,
   "id": "8b6d588a-5b25-49f3-bf5c-2a78ec4d8b09",
   "metadata": {},
   "outputs": [],
   "source": []
  }
 ],
 "metadata": {
  "kernelspec": {
   "display_name": "Python 3 (ipykernel)",
   "language": "python",
   "name": "python3"
  },
  "language_info": {
   "codemirror_mode": {
    "name": "ipython",
    "version": 3
   },
   "file_extension": ".py",
   "mimetype": "text/x-python",
   "name": "python",
   "nbconvert_exporter": "python",
   "pygments_lexer": "ipython3",
   "version": "3.10.13"
  }
 },
 "nbformat": 4,
 "nbformat_minor": 5
}
