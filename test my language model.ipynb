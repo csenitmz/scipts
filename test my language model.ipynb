{
 "cells": [
  {
   "cell_type": "markdown",
   "id": "14ce7b56-967e-40a5-9922-05689ff43399",
   "metadata": {},
   "source": [
    "## Test GPT2 build from Mizo corpus"
   ]
  },
  {
   "cell_type": "code",
   "execution_count": 8,
   "id": "87d4d6ad-c5c0-4ecf-b14e-e6dcc4a956fb",
   "metadata": {},
   "outputs": [],
   "source": [
    "from transformers import pipeline"
   ]
  },
  {
   "cell_type": "code",
   "execution_count": 9,
   "id": "c03c0aba-e413-4827-9792-e8b5103b8b04",
   "metadata": {},
   "outputs": [],
   "source": [
    "generator = pipeline(\"text-generation\", model=\"models/1-epochs-config-only-test-clm\")"
   ]
  },
  {
   "cell_type": "code",
   "execution_count": 6,
   "id": "1a257635-12a7-44e5-a5c7-7ddac636f4d1",
   "metadata": {},
   "outputs": [
    {
     "name": "stderr",
     "output_type": "stream",
     "text": [
      "Truncation was not explicitly activated but `max_length` is provided a specific value, please use `truncation=True` to explicitly truncate examples to max length. Defaulting to 'longest_first' truncation strategy. If you encode pairs of sequences (GLUE-style) with the tokenizer you can select this strategy more precisely by providing a specific strategy to `truncation`.\n",
      "Setting `pad_token_id` to `eos_token_id`:50256 for open-end generation.\n"
     ]
    },
    {
     "data": {
      "text/plain": [
       "[{'generated_text': 'In this course, we will teach you how to\\n\"\"An lân kan nih ve, ka duh thei tawh lo, ka'},\n",
       " {'generated_text': 'In this course, we will teach you how to, ;Chapter, Mizoram University Europe'}]"
      ]
     },
     "execution_count": 6,
     "metadata": {},
     "output_type": "execute_result"
    }
   ],
   "source": [
    "generator(\n",
    "    \"In this course, we will teach you how to\",\n",
    "    max_length=30,\n",
    "    num_return_sequences=2,\n",
    ")"
   ]
  },
  {
   "cell_type": "code",
   "execution_count": 10,
   "id": "aa29bd3f-a1f7-4e0c-a1d5-17c0087a848c",
   "metadata": {},
   "outputs": [
    {
     "name": "stderr",
     "output_type": "stream",
     "text": [
      "Truncation was not explicitly activated but `max_length` is provided a specific value, please use `truncation=True` to explicitly truncate examples to max length. Defaulting to 'longest_first' truncation strategy. If you encode pairs of sequences (GLUE-style) with the tokenizer you can select this strategy more precisely by providing a specific strategy to `truncation`.\n",
      "Setting `pad_token_id` to `eos_token_id`:50256 for open-end generation.\n"
     ]
    },
    {
     "data": {
      "text/plain": [
       "[{'generated_text': 'i dam maw?” tiin a rawn ti a.\\n\\n\\n\\nChampions aṭang chuan min lo meng'},\n",
       " {'generated_text': 'i dam maw?\"\" a ti.\\n\"\"Zin lo la la leh bawk. I awm dan tak Rak kal leh ka hre leh'}]"
      ]
     },
     "execution_count": 10,
     "metadata": {},
     "output_type": "execute_result"
    }
   ],
   "source": [
    "generator(\n",
    "    \"i dam maw\",\n",
    "    max_length=30,\n",
    "    num_return_sequences=2,\n",
    ")"
   ]
  },
  {
   "cell_type": "code",
   "execution_count": null,
   "id": "86c6122d-555e-45bc-9dda-e939735ccbc7",
   "metadata": {},
   "outputs": [],
   "source": []
  }
 ],
 "metadata": {
  "kernelspec": {
   "display_name": "Python 3 (ipykernel)",
   "language": "python",
   "name": "python3"
  },
  "language_info": {
   "codemirror_mode": {
    "name": "ipython",
    "version": 3
   },
   "file_extension": ".py",
   "mimetype": "text/x-python",
   "name": "python",
   "nbconvert_exporter": "python",
   "pygments_lexer": "ipython3",
   "version": "3.10.13"
  }
 },
 "nbformat": 4,
 "nbformat_minor": 5
}
